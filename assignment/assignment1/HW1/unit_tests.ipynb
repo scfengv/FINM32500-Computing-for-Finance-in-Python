{
 "cells": [
  {
   "cell_type": "markdown",
   "metadata": {},
   "source": [
    "### CSV parsing into frozen dataclass"
   ]
  },
  {
   "cell_type": "code",
   "execution_count": 8,
   "metadata": {},
   "outputs": [
    {
     "name": "stdout",
     "output_type": "stream",
     "text": [
      "MarketDataPoint(timestamp=datetime.datetime(2025, 9, 19, 15, 45, 57, 810291), symbol='AAPL', price=152.92)\n",
      "ERROR! Cannot update MarketDataPoint.price cannot assign to field 'price'\n"
     ]
    }
   ],
   "source": [
    "from src.data_loader import load_market_data\n",
    "\n",
    "mkt_data = load_market_data(\"market_data.csv\")\n",
    "print(mkt_data[0])\n",
    "\n",
    "try:\n",
    "    mkt_data[0].price = 1\n",
    "except Exception as e:\n",
    "    print(\"ERROR! Cannot update MarketDataPoint.price\", e)"
   ]
  },
  {
   "cell_type": "markdown",
   "metadata": {},
   "source": [
    "### Mutable behavior of Order"
   ]
  },
  {
   "cell_type": "code",
   "execution_count": 8,
   "metadata": {},
   "outputs": [
    {
     "name": "stdout",
     "output_type": "stream",
     "text": [
      "ERROR! Cannot update MarketDataPoint.price: cannot assign to field 'price'\n",
      "Original <src.models.Order object at 0x1084528d0>\n",
      "Updated <src.models.Order object at 0x1084528d0>\n"
     ]
    }
   ],
   "source": [
    "# Demonstrate in a unit test that you can update Order.status but not MarketDataPoint.price.\n",
    "from src.models import MarketDataPoint, Order\n",
    "import datetime\n",
    "\n",
    "# Immutable\n",
    "mkt_data_pt = MarketDataPoint(datetime.datetime(2025,9,19,9,30), 'AAPL', 150.0)\n",
    "try:\n",
    "    mkt_data_pt.price = 200\n",
    "except Exception as e:\n",
    "    print(\"ERROR! Cannot update MarketDataPoint.price:\", e)\n",
    "\n",
    "# Mutable\n",
    "o = Order('AAPL', 10, 150.0, 'NEW')\n",
    "print(\"Original\", o)\n",
    "o.status = 'FILLED'\n",
    "print(\"Updated\", o)"
   ]
  },
  {
   "cell_type": "markdown",
   "metadata": {},
   "source": [
    "### Exception raising and handling"
   ]
  },
  {
   "cell_type": "code",
   "execution_count": 12,
   "metadata": {},
   "outputs": [
    {
     "name": "stdout",
     "output_type": "stream",
     "text": [
      "Error log contents: ['Order Error! Invalid quantity: -10', 'Execution Error! Order execution failed']\n"
     ]
    }
   ],
   "source": [
    "import random\n",
    "from src.models import *\n",
    "from src.engine import *\n",
    "\n",
    "engine = ExecutionEngine()\n",
    "\n",
    "# OrderError\n",
    "class BadStrategy:\n",
    "    def generate_signals(self, tick):\n",
    "        return [('BUY', 'AAPL', -10, 150.0)]  # invalid qty\n",
    "engine.process([MarketDataPoint(datetime.datetime.now(), \"AAPL\", 150.0)], [BadStrategy()])\n",
    "\n",
    "# ExecutionError\n",
    "class GoodStrategy:\n",
    "    def generate_signals(self, tick):\n",
    "        return [('BUY', 'AAPL', 10, 150.0)]  # valid order\n",
    "\n",
    "_random = random.random    \n",
    "random.random = lambda: 0.0\n",
    "engine.process([MarketDataPoint(datetime.datetime.now(), \"AAPL\", 150.0)], [GoodStrategy()])\n",
    "random.random = _random\n",
    "\n",
    "print(\"Error log contents:\", engine.error_log)"
   ]
  }
 ],
 "metadata": {
  "kernelspec": {
   "display_name": "base",
   "language": "python",
   "name": "python3"
  },
  "language_info": {
   "codemirror_mode": {
    "name": "ipython",
    "version": 3
   },
   "file_extension": ".py",
   "mimetype": "text/x-python",
   "name": "python",
   "nbconvert_exporter": "python",
   "pygments_lexer": "ipython3",
   "version": "3.12.7"
  }
 },
 "nbformat": 4,
 "nbformat_minor": 2
}
